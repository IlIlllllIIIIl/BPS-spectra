{
 "cells": [
  {
   "cell_type": "code",
   "execution_count": 63,
   "metadata": {},
   "outputs": [],
   "source": [
    "import itertools\n",
    "\n",
    "def solve4(ranges):\n",
    "    sol = []\n",
    "    \n",
    "    # Conditions are: a2 >= a3 >= a4\n",
    "    # a1 * a2 > 1, -a2 - a3 + a1 * a2 * a3 < 0, -a2 * a4 - a3 * a4 + a2 * a3 * (-1 + a1 * a4) > 0, a4 - a2 * a4 * a5 + a3 * (1 - a2 * a5 - a4 * a5 + a1 * a4 * (-1 + a2 * a5)) < 0 for negative definiteness\n",
    "    # a4 * (a5 + a6 - a2 * a5 * a6) + a3 * (a6 - a1 * a4 * a6 + a5 * (1 - a2 * a6 - a4 * a6 + a1 * a4 * (-1 + a2 * a6))) == 1 sets the determinant to 1\n",
    "    for a1 in ranges[0]:\n",
    "        for a2 in ranges[1]:\n",
    "            if a1 * a2 <= 1:  # Prune invalid combinations\n",
    "                continue\n",
    "            for a3 in ranges[2]:\n",
    "                if a2 < a3 or -a2 - a3 + a1 * a2 * a3 >= 0: \n",
    "                    continue\n",
    "                for a4 in ranges[3]:\n",
    "                    if  a3 >= a4 and -a2 * a3 - a2 * a4 - a3 * a4 + a1 * a2 * a3 * a4 == 1:\n",
    "                                sol.append((a1, a2, a3, a4))\n",
    "    return sol"
   ]
  },
  {
   "cell_type": "code",
   "execution_count": 51,
   "metadata": {},
   "outputs": [],
   "source": [
    "def solve112(ranges):\n",
    "    sol = []\n",
    "    # {a1, -1 + a1 a2, -a2 - a3 + a1 a2 a3, -a2 a3 - a2 a4 - a3 a4 + a1 a2 a3 a4}\n",
    "    # Condition: a2 >= a3\n",
    "    #\n",
    "    for a1 in ranges[0]:\n",
    "        for a2 in ranges[1]:\n",
    "            if a1 * a2 <= 1:  # Prune invalid combinations\n",
    "                continue\n",
    "            for a3 in ranges[2]:\n",
    "                if a2 < a3 or -a2 - a3 + a1 * a2 * a3 >= 0: \n",
    "                    continue\n",
    "                for a4 in ranges[3]:\n",
    "                    if -a2 * a3 - a2 * a4 - a3 * a4 + a1 * a2 * a3 * a4 <= 0:\n",
    "                         continue\n",
    "                    for a5 in ranges[4]:\n",
    "                        # a2 + a3 - a1 a2 a3 - a2 a3 a5 - a2 a4 a5 - a3 a4 a5 + a1 a2 a3 a4 a5 == -1\n",
    "                        if a2 + a3 - a1 * a2 * a3 - a2 * a3 * a5 - a2 * a4 * a5 - a3 * a4 * a5 + a1 * a2 * a3 * a4 * a5 == -1:\n",
    "                            sol.append((a1, a2, a3, a4, a5))\n",
    "    return sol"
   ]
  },
  {
   "cell_type": "code",
   "execution_count": 61,
   "metadata": {},
   "outputs": [],
   "source": [
    "import pandas as pd\n",
    "def save4(solutions, filename):\n",
    "    column_names = [\"a1\", \"a2\", \"a3\", \"a4\"]\n",
    "    # Create a DataFrame\n",
    "    df = pd.DataFrame(solutions, columns=column_names)\n",
    "\n",
    "    df.to_csv(filename, index=False)\n",
    "\n",
    "    return f\"Solutions exported to {filename}\"\n",
    "\n",
    "def save5(solutions, filename):\n",
    "    column_names = [\"a1\", \"a2\", \"a3\", \"a4\", \"a5\"]\n",
    "    # Create a DataFrame\n",
    "    df = pd.DataFrame(solutions, columns=column_names)\n",
    "\n",
    "    df.to_csv(filename, index=False)\n",
    "\n",
    "    return f\"Solutions exported to {filename}\""
   ]
  },
  {
   "cell_type": "code",
   "execution_count": 58,
   "metadata": {},
   "outputs": [],
   "source": [
    "import numpy as np\n",
    "\n",
    "def range4(r):\n",
    "    return [\n",
    "        np.arange(r[0], 0),\n",
    "        np.arange(r[1], 0),\n",
    "        np.arange(r[2], 0),\n",
    "        np.arange(r[3], 0),\n",
    "    ]\n",
    "\n",
    "def range5(r):\n",
    "    return [\n",
    "        np.arange(r[0], 0),\n",
    "        np.arange(r[1], -1),\n",
    "        np.arange(r[2], -1),\n",
    "        np.arange(r[3], -1),\n",
    "        np.arange(r[4], -1),\n",
    "    ]"
   ]
  },
  {
   "cell_type": "code",
   "execution_count": 55,
   "metadata": {},
   "outputs": [
    {
     "data": {
      "text/plain": [
       "'Solutions exported to /Users/lithium/Downloads/sol112_20.csv'"
      ]
     },
     "execution_count": 55,
     "metadata": {},
     "output_type": "execute_result"
    }
   ],
   "source": [
    "r20 = [-5] + [-20] * 4\n",
    "s20 = solve112(range5(r20))\n",
    "save5(s20, \"/Users/lithium/Downloads/sol112_20.csv\")"
   ]
  },
  {
   "cell_type": "code",
   "execution_count": 56,
   "metadata": {},
   "outputs": [
    {
     "data": {
      "text/plain": [
       "'Solutions exported to /Users/lithium/Downloads/sol112_100.csv'"
      ]
     },
     "execution_count": 56,
     "metadata": {},
     "output_type": "execute_result"
    }
   ],
   "source": [
    "r100 = [-5] + [-100] * 4\n",
    "s100 = solve112(range5(r100))\n",
    "save5(s100, \"/Users/lithium/Downloads/sol112_100.csv\")"
   ]
  },
  {
   "cell_type": "code",
   "execution_count": 65,
   "metadata": {},
   "outputs": [
    {
     "data": {
      "text/plain": [
       "'Solutions exported to /Users/lithium/Downloads/sol4_30.csv'"
      ]
     },
     "execution_count": 65,
     "metadata": {},
     "output_type": "execute_result"
    }
   ],
   "source": [
    "r30 = [-5] + [-30] * 4\n",
    "s30 = solve4(range4(r30))\n",
    "save4(s30,\"/Users/lithium/Downloads/sol4_30.csv\")"
   ]
  },
  {
   "cell_type": "code",
   "execution_count": null,
   "metadata": {},
   "outputs": [],
   "source": []
  }
 ],
 "metadata": {
  "kernelspec": {
   "display_name": "Python 3 (/usr/bin/python3)",
   "language": "python",
   "name": "python3"
  },
  "language_info": {
   "codemirror_mode": {
    "name": "ipython",
    "version": 3
   },
   "file_extension": ".py",
   "mimetype": "text/x-python",
   "name": "python",
   "nbconvert_exporter": "python",
   "pygments_lexer": "ipython3",
   "version": "3.6.8"
  }
 },
 "nbformat": 4,
 "nbformat_minor": 2
}
