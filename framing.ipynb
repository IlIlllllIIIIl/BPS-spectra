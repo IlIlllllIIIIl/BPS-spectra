{
 "cells": [
  {
   "cell_type": "code",
   "execution_count": 1,
   "metadata": {},
   "outputs": [],
   "source": [
    "import itertools\n",
    "\n",
    "def solve(ranges):\n",
    "    sol = []\n",
    "    \n",
    "    # Conditions are: a1 >= a2, a3 >= a4, a5 >= a6 and when a1 = a2, choose a3 >= a5, when a1 = a2 and a3 = a5, choose a4 >= a6 to avoid all double counting\n",
    "    # a1 * a2 > 1, -a2 - a3 + a1 * a2 * a3 < 0, -a2 * a4 - a3 * a4 + a2 * a3 * (-1 + a1 * a4) > 0, a4 - a2 * a4 * a5 + a3 * (1 - a2 * a5 - a4 * a5 + a1 * a4 * (-1 + a2 * a5)) < 0 for negative definiteness\n",
    "    # a4 * (a5 + a6 - a2 * a5 * a6) + a3 * (a6 - a1 * a4 * a6 + a5 * (1 - a2 * a6 - a4 * a6 + a1 * a4 * (-1 + a2 * a6))) == 1 sets the determinant to 1\n",
    "    for a1 in ranges[0]:\n",
    "        for a2 in ranges[1]:\n",
    "            if a1 < a2 or a1 * a2 <= 1:  # Prune invalid combinations\n",
    "                continue\n",
    "            for a3 in ranges[2]:\n",
    "                if -a2 - a3 + a1 * a2 * a3 >= 0: \n",
    "                    continue\n",
    "                for a4 in ranges[3]:\n",
    "                    if a3 < a4 or -a2 * a4 - a3 * a4 + a2 * a3 * (-1 + a1 * a4) <= 0: \n",
    "                        continue\n",
    "                    for a5 in ranges[4]:\n",
    "                        if a1 == a2 and a3 < a5:\n",
    "                            continue\n",
    "                        if a4 - a2 * a4 * a5 + a3 * (1 - a2 * a5 - a4 * a5 + a1 * a4 * (-1 + a2 * a5)) >= 0: \n",
    "                            continue\n",
    "                        for a6 in ranges[5]:\n",
    "                            if a1 == a2 and a5 == a3 and a4 < a6:\n",
    "                                continue\n",
    "                            if a5 < a6:\n",
    "                                continue\n",
    "                            if a4 * (a5 + a6 - a2 * a5 * a6) + a3 * (a6 - a1 * a4 * a6 + a5 * (1 - a2 * a6 - a4 * a6 + a1 * a4 * (-1 + a2 * a6))) == 1:\n",
    "                                sol.append((a1, a2, a3, a4, a5, a6))\n",
    "    return sol\n",
    "\n",
    "import pandas as pd\n",
    "\n",
    "def save(solutions, filename):\n",
    "    column_names = [\"a1\", \"a2\", \"a3\", \"a4\", \"a5\", \"a6\"]\n",
    "    # Create a DataFrame\n",
    "    df = pd.DataFrame(solutions, columns=column_names)\n",
    "\n",
    "    df.to_csv(filename, index=False)\n",
    "\n",
    "    return f\"Solutions exported to {filename}\"\n",
    "\n",
    "import numpy as np\n",
    "\n",
    "def range(r):\n",
    "    return [\n",
    "        np.arange(r[0], 0),\n",
    "        np.arange(r[1], 0),\n",
    "        np.arange(r[2], -1),\n",
    "        np.arange(r[3], -1),\n",
    "        np.arange(r[4], -1),\n",
    "        np.arange(r[5], -1)\n",
    "    ]\n"
   ]
  },
  {
   "cell_type": "code",
   "execution_count": 2,
   "metadata": {},
   "outputs": [
    {
     "data": {
      "text/plain": [
       "'Solutions exported to /Users/lithium/Downloads/solutions_20.csv'"
      ]
     },
     "execution_count": 2,
     "metadata": {},
     "output_type": "execute_result"
    }
   ],
   "source": [
    "r20 = [-20] * 6\n",
    "\n",
    "s20 = solve(range(r20))\n",
    "\n",
    "save(s20, \"/Users/lithium/Downloads/solutions_20.csv\")"
   ]
  },
  {
   "cell_type": "code",
   "execution_count": 10,
   "metadata": {},
   "outputs": [
    {
     "data": {
      "text/plain": [
       "'Solutions exported to /Users/lithium/Downloads/solutions_5_15_20_100_30_200.csv'"
      ]
     },
     "execution_count": 10,
     "metadata": {},
     "output_type": "execute_result"
    }
   ],
   "source": [
    "r5_15_20_100_30_200 = [-5, -15, -20, -100, -30, -200]\n",
    "s5_15_20_100_30_200 = solve(range(r5_15_20_100_30_200))\n",
    "save(s5_15_20_100_30_200, \"/Users/lithium/Downloads/solutions_5_15_20_100_30_200.csv\")"
   ]
  },
  {
   "cell_type": "code",
   "execution_count": null,
   "metadata": {},
   "outputs": [],
   "source": []
  }
 ],
 "metadata": {
  "kernelspec": {
   "display_name": "Python 3",
   "language": "python",
   "name": "python3"
  },
  "language_info": {
   "codemirror_mode": {
    "name": "ipython",
    "version": 3
   },
   "file_extension": ".py",
   "mimetype": "text/x-python",
   "name": "python",
   "nbconvert_exporter": "python",
   "pygments_lexer": "ipython3",
   "version": "3.11.4"
  }
 },
 "nbformat": 4,
 "nbformat_minor": 2
}
